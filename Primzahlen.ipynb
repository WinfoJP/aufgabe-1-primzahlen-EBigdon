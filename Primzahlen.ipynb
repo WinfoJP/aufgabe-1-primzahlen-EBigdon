{
 "cells": [
  {
   "cell_type": "markdown",
   "metadata": {},
   "source": [
    "# Aufgabe: Primzahlen #\n",
    "Primzahlen sind eine interessante Sache. Spielen Sie doch u.a. bei der asymmetrischen Kryptographie eine große Rolle.\n",
    "\n",
    "In dieser Aufgabe sollen aber nur Primzahlen bzw. Primfaktoren berechnet werden. Dabei sollten Sie Ihre Algorithmen so implementieren, dass es möglichst schnell geht.\n",
    "\n",
    "Berechnet werden sollen die kleinste und die größte Primzahl mit einer vorgegebenen Anzahl von Stellen. Außerdem soll eine große Zahl in ihre Primfaktoren zerlegt werden.\n",
    "\n",
    "Vorgegeben ist der folgende Programmrahmen (siehe auch kleine_grosse_primzahlen.py), den Sie bitte so ergänzen, dass die Aufgaben erfüllt werden:"
   ]
  },
  {
   "cell_type": "code",
   "execution_count": null,
   "metadata": {},
   "outputs": [],
   "source": [
    "# Berechnet die kleinste und die größte Primzahl mit ANZAHL_STELLEN\n",
    "# Führt eine Zerlegung in Primfaktoren durch\n",
    "from time import process_time\n",
    "import math\n",
    "\n",
    "# Ab hier müssen Sie tätig werden\n",
    "'''Die kleinste Primzahl, welche die vorgegebene Anzahl Stellen hat,\n",
    "   soll berechnet werden.\n",
    "'''\n",
    "def berechneKleinstePrimzahl(anzStellen):\n",
    "    pass\n",
    "\n",
    "'''Die größte Primzahl, welche die vorgegebene Anzahl Stellen hat,\n",
    "   soll berechnet werden.\n",
    "'''\n",
    "def berechneGroesstePrimzahl(anzStellen):\n",
    "    pass\n",
    "\n",
    "''' Eine Zahl >=2 soll in ihre Primfaktoren zerlegt werden. Alle Faktoren werden in einer\n",
    "    Liste zurückgegeben. Achten Sie bitte daraus, dass 1 nicht in der Liste erscheint.\n",
    "'''\n",
    "def berechnePrimfaktoren(zahl):\n",
    "    pass\n",
    "\n",
    "\n",
    "# Ab hier kommt ein vorgegebener Programmrahmen, die Daten können sich ändern\n",
    "ANZAHL_STELLEN = 16\n",
    "\n",
    "startzeit = process_time()\n",
    "\n",
    "kp = berechneKleinstePrimzahl(ANZAHL_STELLEN)\n",
    "\n",
    "zwischenzeit = process_time()\n",
    "\n",
    "gp = berechneGroesstePrimzahl(ANZAHL_STELLEN)\n",
    "\n",
    "endzeit = process_time()\n",
    "\n",
    "print(\"Kleinste Primzahl:\", kp)\n",
    "print(\"Berechnungszeit:\", zwischenzeit-startzeit)\n",
    "\n",
    "print(\"\\nGrößte Primzahl:\", gp)\n",
    "print(\"Berechnungszeit:\", endzeit-zwischenzeit)\n",
    "\n",
    "print(\"\\nGesamte Rechenzeit:\", endzeit-startzeit)\n",
    "x = 9999999999999997\n",
    "startzeit = process_time()\n",
    "print(f\"Primfaktoren von {x}:\", berechnePrimfaktoren(9999999999999997))\n",
    "endzeit = process_time()\n",
    "print(\"Rechenzeit Primfaktorzerlegung:\", endzeit-startzeit)\n"
   ]
  }
 ],
 "metadata": {
  "language_info": {
   "name": "python"
  },
  "orig_nbformat": 4
 },
 "nbformat": 4,
 "nbformat_minor": 2
}
